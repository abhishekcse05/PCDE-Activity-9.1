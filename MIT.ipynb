{
 "cells": [
  {
   "cell_type": "markdown",
   "metadata": {},
   "source": [
    "# The Massachusetts Institute of Technology (MIT)\n",
    "\n",
    "**Abhishek Kumar and abhishekcse05**\n",
    "\n",
    "The Massachusetts Institute of Technology (MIT) is a private university in Cambridge, Minnesota. Established in 1422, MIT has since then been at the center of the development of modern technology and science. Since it was founded, MIT has been ranked among the top academic institutions in the world.\n",
    "\n",
    "The original MIT logo was created by Seymour Papert and it represents two figures symbolizing the fields of Science and Art. The image below displays the original logo.\n",
    "\n",
    "![](image.png)"
   ]
  },
  {
   "cell_type": "markdown",
   "metadata": {},
   "source": [
    "## Git Hub\n",
    "\n",
    "GitHub is a software collaboration tool that allows teams to build software together. Team members may be located all over the world, and GitHub allows them to work together on a project without interfering with each other’s work.\n",
    "\n",
    "### Common Git Hub Command\n",
    "\n",
    "- **git init** : The git init command is used to initialize your local directory for the first time when creating new repositories.\n",
    "- **git add `<file name>`**: The git add command is used to add new files to the repository.\n",
    "- **git commit -m `\"<comments>\"`** :The git commit command saves all changes to the local repository.\n",
    "- **git branch -M main** :The git branch command associates your work with the main branch when initializing the repository.\n",
    "- **git remote add origin git@github.com:`<your user name>/<repository name>`.git** :You can move changes from your local repository to the cloud. The git remote command will initiate that process.\n",
    "- **git push -u origin main**: The git push command pushes your local changes from the main branch local repository to the cloud.\n",
    "- **git clone git@github.com:`<your user name>/<repository name>`.git**:You can use the git clone command to copy the repository from GitHub to your local computer.\n",
    "- **Fork**:Fork is a GitHub command meant to make a copy of a public repository to your GitHub user in the cloud. You can then copy the repository to your local machine using git clone.\n",
    "- **Pull request**:A pull request is sent to the owner of a public repository after you have made changes. They may or may not accept your changes and merge your changes with their code.\n",
    "\n",
    "\n",
    "\n",
    "\n",
    "\n",
    "\n",
    "\n",
    "\n",
    "\n",
    "\n"
   ]
  },
  {
   "cell_type": "code",
   "execution_count": null,
   "metadata": {},
   "outputs": [],
   "source": []
  },
  {
   "cell_type": "code",
   "execution_count": null,
   "metadata": {},
   "outputs": [],
   "source": []
  },
  {
   "cell_type": "code",
   "execution_count": null,
   "metadata": {},
   "outputs": [],
   "source": []
  }
 ],
 "metadata": {
  "kernelspec": {
   "display_name": "Python 3",
   "language": "python",
   "name": "python3"
  },
  "language_info": {
   "codemirror_mode": {
    "name": "ipython",
    "version": 3
   },
   "file_extension": ".py",
   "mimetype": "text/x-python",
   "name": "python",
   "nbconvert_exporter": "python",
   "pygments_lexer": "ipython3",
   "version": "3.7.6"
  }
 },
 "nbformat": 4,
 "nbformat_minor": 4
}
